{
 "cells": [
  {
   "cell_type": "markdown",
   "metadata": {},
   "source": [
    "# [A] > [중분 중분 중분 중분] \n",
    "# [B] > [중분 중분 중분 ]\n",
    "상태일때 \n",
    "input [중분들을] > [A,B,A,A ]로 변경이 목표"
   ]
  },
  {
   "cell_type": "code",
   "execution_count": 7,
   "metadata": {},
   "outputs": [
    {
     "data": {
      "text/plain": [
       "['야채', 'null', '맨유']"
      ]
     },
     "execution_count": 7,
     "metadata": {},
     "output_type": "execute_result"
    }
   ],
   "source": [
    "import pandas as pd\n",
    "\n",
    "\n",
    "\"\"\"\n",
    "주피터 실행 파일과 같은 디렉토리에 엑셀을 넣어주세요\n",
    "ex 중간저장1 파일은 본인의 파일명입니다.\n",
    "\"\"\"\n",
    "\"\"\"\n",
    "입력 전처리 필여\n",
    "df = pd.read_excel(\"ATH_02.xlsx\") # 입력받을 파일명 \n",
    "input_data = df[\"파일명\"].tolist()\n",
    "\"\"\"\n",
    "input_data = [\"감자\",\"null\",\"포그바\"] # input data\n",
    "big_category = [\"야채\",\"스포츠\",\"맨유\"] # 입력할 대분류 명\n",
    "mid_category = [[\"감자\",\"고구마\",\"토마토\"],[\"축구\",\"농구\"],[\"박지성\",\"베컴\",\"포그바\"]] # 중분류 명\n",
    "\n",
    "ans = []\n",
    "for key in input_data :\n",
    "    switch = 0\n",
    "    for category in range(len(mid_category)) :\n",
    "        if key in mid_category[category] :\n",
    "            ans.append(big_category[category])\n",
    "            switch = 1\n",
    "            break            \n",
    "    if switch == 0 :        \n",
    "        ans.append(\"null\")\n",
    "            \n",
    "ans\n"
   ]
  },
  {
   "cell_type": "code",
   "execution_count": null,
   "metadata": {},
   "outputs": [],
   "source": []
  }
 ],
 "metadata": {
  "kernelspec": {
   "display_name": "Python 3",
   "language": "python",
   "name": "python3"
  },
  "language_info": {
   "codemirror_mode": {
    "name": "ipython",
    "version": 3
   },
   "file_extension": ".py",
   "mimetype": "text/x-python",
   "name": "python",
   "nbconvert_exporter": "python",
   "pygments_lexer": "ipython3",
   "version": "3.8.5"
  }
 },
 "nbformat": 4,
 "nbformat_minor": 4
}
